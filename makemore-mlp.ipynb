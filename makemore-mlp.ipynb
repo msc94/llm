{
 "cells": [
  {
   "cell_type": "code",
   "execution_count": null,
   "id": "5d69d181",
   "metadata": {},
   "outputs": [],
   "source": [
    "import torch\n",
    "import torch.nn.functional as F\n",
    "import string\n",
    "import random\n",
    "import matplotlib.pyplot as plt\n",
    "%matplotlib inline"
   ]
  },
  {
   "cell_type": "code",
   "execution_count": null,
   "id": "941b668a",
   "metadata": {},
   "outputs": [],
   "source": [
    "words = open(\"data/german_words.txt\", \"r\").read().splitlines()\n",
    "print(f\"Original length: {len(words)}\")\n",
    "\n",
    "def contains_illegal_char(word):\n",
    "    allowed_chars = list(string.ascii_lowercase) + list(\" -äöüß\")\n",
    "    return any(c not in allowed_chars for c in word)\n",
    "\n",
    "# Clean up words a little and remove lots of characters that rarely occur\n",
    "words = [w.lower() for w in words]\n",
    "words = [w for w in words if not contains_illegal_char(w)]\n",
    "\n",
    "print(f\"New length: {len(words)}\")"
   ]
  },
  {
   "cell_type": "code",
   "execution_count": null,
   "id": "f251ca63",
   "metadata": {},
   "outputs": [],
   "source": [
    "chars = sorted(list(set(\"\".join(words))))\n",
    "\n",
    "stoi = dict()\n",
    "stoi[\".\"] = len(stoi)\n",
    "for c in chars:\n",
    "    stoi[c] = len(stoi)\n",
    "\n",
    "num_chars = len(stoi)\n",
    "\n",
    "itos = {i:s for s, i in stoi.items()}\n",
    "\n",
    "print(stoi)\n",
    "print(itos)"
   ]
  },
  {
   "cell_type": "code",
   "execution_count": null,
   "id": "c71058be",
   "metadata": {},
   "outputs": [],
   "source": [
    "context_length = 3\n",
    "\n",
    "xs = []\n",
    "ys = []\n",
    "\n",
    "for word in words:\n",
    "    context = [0] * context_length\n",
    "    for ch in word + \".\":\n",
    "        ix = stoi[ch]\n",
    "        \n",
    "        xs.append(context)\n",
    "        ys.append(ix)\n",
    "        \n",
    "        # Shift context and continue\n",
    "        context = context[1:] + [ix]\n",
    "    \n",
    "xs = torch.tensor(xs)\n",
    "ys = torch.tensor(ys)\n",
    "\n",
    "xs.shape, ys.shape"
   ]
  },
  {
   "cell_type": "code",
   "execution_count": null,
   "id": "1a9e059b",
   "metadata": {},
   "outputs": [],
   "source": [
    "def print_samples():\n",
    "    for i, x in enumerate(xs):\n",
    "        y = ys[i]\n",
    "        print(\"\".join(itos[i.item()] for i in x) + \"->\" + itos[y.item()])\n",
    "\n",
    "print_samples()"
   ]
  },
  {
   "cell_type": "code",
   "execution_count": null,
   "id": "1c2be7e6",
   "metadata": {},
   "outputs": [],
   "source": [
    "embedding_size = 2\n",
    "hidden_layer_size = 300\n",
    "\n",
    "# Make embedding into 2D space\n",
    "C = torch.randn((num_chars), embedding_size)\n",
    "\n",
    "# First (hidden) layer\n",
    "W1 = torch.randn((embedding_size * context_length, hidden_layer_size))\n",
    "b1 = torch.randn(hidden_layer_size)\n",
    "\n",
    "# Final layer\n",
    "W2 = torch.randn((hidden_layer_size, num_chars))\n",
    "b2 = torch.randn(num_chars)\n",
    "\n",
    "parameters = [C, W1, b1, W2, b2]\n",
    "\n",
    "for p in parameters:\n",
    "    p.requires_grad = True"
   ]
  },
  {
   "cell_type": "code",
   "execution_count": null,
   "id": "ce7d9e13",
   "metadata": {},
   "outputs": [],
   "source": [
    "def iteration():\n",
    "    # --- make minibatch ---\n",
    "    ix = torch.randint(0, xs.shape[0], (32,))\n",
    "    emb = C[xs[ix]]\n",
    "    emb = emb.view((-1, context_length * embedding_size))\n",
    "    \n",
    "    # --- forward pass ---\n",
    "    h = torch.tanh(emb @ W1 + b1)\n",
    "    logits = h @ W2 + b2\n",
    "    loss = F.cross_entropy(logits, ys[ix])\n",
    "    \n",
    "    # --- backward pass ---\n",
    "    for p in parameters:\n",
    "        p.grad = None\n",
    "        \n",
    "    loss.backward()\n",
    "    \n",
    "    for p in parameters:\n",
    "        p.data += -0.1 * p.grad\n",
    "\n",
    "for i in range(20000):\n",
    "    iteration()\n",
    "\n",
    "emb = C[xs]\n",
    "emb = emb.view((-1, context_length * embedding_size))\n",
    "h = torch.tanh(emb @ W1 + b1)\n",
    "logits = h @ W2 + b2\n",
    "loss = F.cross_entropy(logits, ys)\n",
    "\n",
    "print(f\"{loss=}\")"
   ]
  },
  {
   "cell_type": "code",
   "execution_count": null,
   "id": "774a5c39",
   "metadata": {},
   "outputs": [],
   "source": [
    "def sample_word():\n",
    "    context = [0] * context_length\n",
    "    word = []\n",
    "    \n",
    "    while True:\n",
    "        x = torch.tensor(context)\n",
    "        \n",
    "        emb = C[x]\n",
    "        emb = emb.view((-1, context_length * embedding_size))\n",
    "        \n",
    "        h = torch.tanh(emb @ W1 + b1)\n",
    "        logits = h @ W2 + b2\n",
    "        probs = F.softmax(logits, dim=1)\n",
    "        next_ch = torch.multinomial(probs, 1)\n",
    "        \n",
    "        if next_ch == 0:\n",
    "            break\n",
    "        \n",
    "        word.append(itos[next_ch.item()])\n",
    "        context = context[1:] + [next_ch.item()]\n",
    "    \n",
    "    return \"\".join(word)\n",
    "\n",
    "for i in range(10):\n",
    "    print(f\"{i}: {sample_word()}\")"
   ]
  },
  {
   "cell_type": "code",
   "execution_count": null,
   "id": "c8db0d0c",
   "metadata": {},
   "outputs": [],
   "source": []
  }
 ],
 "metadata": {
  "kernelspec": {
   "display_name": "Python 3 (ipykernel)",
   "language": "python",
   "name": "python3"
  },
  "language_info": {
   "codemirror_mode": {
    "name": "ipython",
    "version": 3
   },
   "file_extension": ".py",
   "mimetype": "text/x-python",
   "name": "python",
   "nbconvert_exporter": "python",
   "pygments_lexer": "ipython3",
   "version": "3.11.2"
  }
 },
 "nbformat": 4,
 "nbformat_minor": 5
}
