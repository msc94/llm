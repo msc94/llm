{
 "cells": [
  {
   "cell_type": "code",
   "execution_count": null,
   "id": "2e71ac61",
   "metadata": {},
   "outputs": [],
   "source": [
    "import torch\n",
    "import string\n",
    "import matplotlib.pyplot as plt\n",
    "%matplotlib inline"
   ]
  },
  {
   "cell_type": "code",
   "execution_count": null,
   "id": "941b668a",
   "metadata": {},
   "outputs": [],
   "source": [
    "words = open(\"data/german_words.txt\", \"r\").read().splitlines()\n",
    "print(f\"Original length: {len(words)}\")\n",
    "\n",
    "def contains_illegal_char(word):\n",
    "    allowed_chars = list(string.ascii_lowercase) + list(\" -äöüß\")\n",
    "    return any(c not in allowed_chars for c in word)\n",
    "\n",
    "# Clean up words a little and remove lots of characters that rarely occur\n",
    "words = [w.lower() for w in words]\n",
    "words = [w for w in words if not contains_illegal_char(w)]\n",
    "\n",
    "print(f\"New length: {len(words)}\")"
   ]
  },
  {
   "cell_type": "code",
   "execution_count": null,
   "id": "6e31cce6",
   "metadata": {},
   "outputs": [],
   "source": [
    "chars = sorted(list(set(\"\".join(words))))\n",
    "\n",
    "stoi = {s:i for i, s in enumerate(chars)}\n",
    "stoi[\"<S>\"] = len(stoi)\n",
    "stoi[\"<E>\"] = len(stoi)\n",
    "\n",
    "num_chars = len(stoi)\n",
    "\n",
    "itos = {i:s for s, i in stoi.items()}"
   ]
  },
  {
   "cell_type": "code",
   "execution_count": null,
   "id": "a4d840b7",
   "metadata": {},
   "outputs": [],
   "source": [
    "N = torch.zeros((num_chars, num_chars), dtype=torch.long)\n",
    "for w in words:\n",
    "    chs = [\"<S>\"] + list(w) + [\"<E>\"]\n",
    "    for ch1, ch2 in zip(chs, chs[1:]):\n",
    "        ix1 = stoi[ch1]\n",
    "        ix2 = stoi[ch2]\n",
    "        N[ix1, ix2] += 1\n",
    "        \n",
    "P = N.float() / P.sum(1, keepdim=True)"
   ]
  },
  {
   "cell_type": "code",
   "execution_count": null,
   "id": "fad52262",
   "metadata": {},
   "outputs": [],
   "source": [
    "plt.figure(figsize=(24, 24))\n",
    "plt.imshow(N)\n",
    "\n",
    "for i in range(num_chars):\n",
    "    for j in range(num_chars):\n",
    "        bigram = itos[i] + itos[j]\n",
    "        plt.text(j, i, bigram, ha=\"center\", va=\"top\")\n",
    "        plt.text(j, i, N[i, j].item(), ha=\"center\", va=\"bottom\")\n",
    "plt.axis(\"off\")"
   ]
  },
  {
   "cell_type": "code",
   "execution_count": null,
   "id": "38a53989",
   "metadata": {},
   "outputs": [],
   "source": [
    "def sample_word():\n",
    "    result = []\n",
    "    \n",
    "    ix = stoi[\"<S>\"]\n",
    "    end = stoi[\"<E>\"]\n",
    "    \n",
    "    while True:\n",
    "        probs = P[ix, :]\n",
    "        \n",
    "        sample = torch.multinomial(probs, 1, replacement=True).item()\n",
    "        if sample == end:\n",
    "            break\n",
    "            \n",
    "        result.append(itos[sample])\n",
    "        ix = sample\n",
    "    \n",
    "    return \"\".join(result)\n",
    "    \n",
    "for i in range(100):\n",
    "    print(f\"{i}: {sample_word()}\")"
   ]
  },
  {
   "cell_type": "code",
   "execution_count": null,
   "id": "2b6d4bc5",
   "metadata": {},
   "outputs": [],
   "source": []
  },
  {
   "cell_type": "code",
   "execution_count": null,
   "id": "373108e4",
   "metadata": {},
   "outputs": [],
   "source": []
  }
 ],
 "metadata": {
  "kernelspec": {
   "display_name": "Python 3 (ipykernel)",
   "language": "python",
   "name": "python3"
  },
  "language_info": {
   "codemirror_mode": {
    "name": "ipython",
    "version": 3
   },
   "file_extension": ".py",
   "mimetype": "text/x-python",
   "name": "python",
   "nbconvert_exporter": "python",
   "pygments_lexer": "ipython3",
   "version": "3.11.2"
  }
 },
 "nbformat": 4,
 "nbformat_minor": 5
}
