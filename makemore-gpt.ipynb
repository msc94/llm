{
 "cells": [
  {
   "cell_type": "code",
   "execution_count": null,
   "id": "5d69d181",
   "metadata": {},
   "outputs": [],
   "source": [
    "import torch\n",
    "import torch.nn.functional as F\n",
    "import torch.nn as nn\n",
    "import string\n",
    "import random\n",
    "import matplotlib.pyplot as plt\n",
    "import tqdm\n",
    "%matplotlib inline"
   ]
  },
  {
   "cell_type": "code",
   "execution_count": null,
   "id": "0037cc66",
   "metadata": {},
   "outputs": [],
   "source": [
    "# --- Hyperparameters ---\n",
    "context_length = 8\n",
    "embedding_size = 32\n",
    "batch_size = 32\n",
    "num_iterations = 100_000\n",
    "learning_rate = 1e-3\n",
    "use_subset = False"
   ]
  },
  {
   "cell_type": "code",
   "execution_count": null,
   "id": "941b668a",
   "metadata": {},
   "outputs": [],
   "source": [
    "text = open(\"data/wiki.txt\", \"r\").read()\n",
    "text = text.lower()\n",
    "\n",
    "if use_subset:\n",
    "    text = text[:1000]\n",
    "\n",
    "print(f\"Input has size: {len(text)}\")\n",
    "print()\n",
    "print(text[:1000])"
   ]
  },
  {
   "cell_type": "code",
   "execution_count": null,
   "id": "f251ca63",
   "metadata": {},
   "outputs": [],
   "source": [
    "chars = sorted(list(set(\"\".join(text))))\n",
    "\n",
    "stoi = dict()\n",
    "for c in chars:\n",
    "    stoi[c] = len(stoi)\n",
    "\n",
    "vocab_size = len(stoi)\n",
    "\n",
    "itos = {i:s for s, i in stoi.items()}\n",
    "\n",
    "print(stoi)\n",
    "print(itos)\n",
    "\n",
    "def encode(s):\n",
    "    return [stoi[ch] for ch in s]\n",
    "\n",
    "def decode(d):\n",
    "    return \"\".join([itos[i] for i in d])"
   ]
  },
  {
   "cell_type": "code",
   "execution_count": null,
   "id": "35f46e2f",
   "metadata": {},
   "outputs": [],
   "source": [
    "# Encode the entire dataset as a torch tensor\n",
    "data = torch.tensor(encode(text), dtype=torch.long)\n",
    "print(data.shape)\n",
    "print()\n",
    "print(data[:1000])"
   ]
  },
  {
   "cell_type": "code",
   "execution_count": null,
   "id": "77d238d5",
   "metadata": {},
   "outputs": [],
   "source": [
    "train_size = int(0.9 * len(data))\n",
    "train_data = data[:train_size]\n",
    "val_data = data[train_size:]\n",
    "print(f\"Train size: {len(train_data)}\")\n",
    "print(f\"Validation size: {len(val_data)}\")"
   ]
  },
  {
   "cell_type": "code",
   "execution_count": null,
   "id": "a32a9a6e",
   "metadata": {},
   "outputs": [],
   "source": [
    "def get_batch(split):\n",
    "    data = train_data if split == \"train\" else val_data\n",
    "    # Get batch_size indices into the array\n",
    "    indices = torch.randint(len(data) - context_length, (batch_size,))\n",
    "    x = torch.stack([data[i:i + context_length] for i in indices])\n",
    "    y = torch.stack([data[i + 1:i + context_length + 1] for i in indices])\n",
    "    return x, y\n",
    "\n",
    "def print_batch_example():\n",
    "    xb, yb = get_batch(\"train\")\n",
    "    print(xb.shape)\n",
    "    print(xb)\n",
    "    print(yb.shape)\n",
    "    print(yb)\n",
    "\n",
    "    for b in range(batch_size):\n",
    "        for c in range(context_length):\n",
    "            context = xb[b, :c + 1]\n",
    "            targets = yb[b, c]\n",
    "            print(f\"{context} -> {targets}\")\n",
    "\n",
    "print_batch_example()"
   ]
  },
  {
   "cell_type": "code",
   "execution_count": null,
   "id": "bb3225d4",
   "metadata": {},
   "outputs": [],
   "source": [
    "class Model(nn.Module):\n",
    "    def __init__(self):\n",
    "        super().__init__()\n",
    "        self.embedding = nn.Embedding(vocab_size, vocab_size)\n",
    "        \n",
    "    def forward(self, context, targets=None):\n",
    "        # idx is (B, T)\n",
    "        logits = self.embedding(context) # (B, T, C)\n",
    "        \n",
    "        if targets is None:\n",
    "            loss = None\n",
    "        else:\n",
    "            B, T, C = logits.shape\n",
    "            \n",
    "            logits = logits.view(B * T, C)\n",
    "            targets = targets.view(B * T)\n",
    "            \n",
    "            loss = F.cross_entropy(logits, targets)\n",
    "        \n",
    "        return logits, loss\n",
    "    \n",
    "    def generate(self, context, num_new_tokens):\n",
    "        for _ in range(num_new_tokens):\n",
    "            # Predict next token\n",
    "            logits, _ = self(context) # (B, T, C)\n",
    "            # Get the raw outputs for the next token\n",
    "            logits = logits[:, -1, :]\n",
    "            # Apply softmax to get probabilities\n",
    "            probs = torch.softmax(logits, dim=1)\n",
    "            # Get next token from probabilities\n",
    "            next_token = torch.multinomial(probs, 1)\n",
    "            # Append next token to context\n",
    "            context = torch.cat([context, next_token], dim=1)\n",
    "        return context\n",
    "            \n",
    "            \n",
    "    \n",
    "m = Model()\n",
    "xb, yb = get_batch(\"train\")\n",
    "logits, loss = m(xb, yb)\n",
    "print(logits.shape)\n",
    "print(loss)"
   ]
  },
  {
   "cell_type": "code",
   "execution_count": null,
   "id": "fec1e2b7",
   "metadata": {},
   "outputs": [],
   "source": [
    "@torch.no_grad()\n",
    "def estimate_loss():\n",
    "    m.eval()\n",
    "    \n",
    "    num_batches = 10\n",
    "    split_losses = dict()\n",
    "    \n",
    "    for split in [\"train\", \"val\"]:\n",
    "        losses = torch.zeros(num_batches)\n",
    "        for i in range(num_batches):\n",
    "            # Sample batch\n",
    "            xb, yb = get_batch(split)\n",
    "            _, loss = m(xb, yb)\n",
    "            losses[i] = loss\n",
    "        split_losses[split] = losses.mean().item()\n",
    "        \n",
    "    m.train()\n",
    "    \n",
    "    return split_losses[\"train\"], split_losses[\"val\"]\n",
    "    \n",
    "estimate_loss()"
   ]
  },
  {
   "cell_type": "code",
   "execution_count": null,
   "id": "af8dda6d",
   "metadata": {},
   "outputs": [],
   "source": [
    "# Train model\n",
    "train_losses = []\n",
    "val_losses = []\n",
    "optimizer = torch.optim.Adam(m.parameters(), lr=learning_rate)\n",
    "\n",
    "for iteration in (pbar := tqdm.tqdm(range(num_iterations))):\n",
    "    if iteration % 1000 == 0:\n",
    "        train_loss, val_loss = estimate_loss()\n",
    "        pbar.set_description(f\"T: {train_loss:.3}, V: {val_loss:.3}\")\n",
    "        train_losses.append(train_loss)\n",
    "        val_losses.append(val_loss)\n",
    "        \n",
    "    # Sample batch of data\n",
    "    xb, yb = get_batch(\"train\")\n",
    "    \n",
    "    # Forward pass\n",
    "    logits, loss = m(xb, yb)\n",
    "    \n",
    "    # Backwards pass\n",
    "    optimizer.zero_grad(set_to_none=True)\n",
    "    loss.backward()\n",
    "    optimizer.step()\n",
    "    \n",
    "plt.figure()\n",
    "plt.plot(train_losses)\n",
    "plt.plot(val_losses)"
   ]
  },
  {
   "cell_type": "code",
   "execution_count": null,
   "id": "04297987",
   "metadata": {},
   "outputs": [],
   "source": [
    "# Let the model generate something\n",
    "raw_output = m.generate(torch.zeros(1, 1, dtype=torch.long), 1000)\n",
    "print(decode(raw_output[0].tolist()))"
   ]
  },
  {
   "cell_type": "markdown",
   "id": "7eefa406",
   "metadata": {},
   "source": [
    "## History\n",
    "\n",
    "```\n",
    "Bigram:      T: 2.48, V: 2.48\n",
    "```"
   ]
  }
 ],
 "metadata": {
  "kernelspec": {
   "display_name": "Python 3 (ipykernel)",
   "language": "python",
   "name": "python3"
  },
  "language_info": {
   "codemirror_mode": {
    "name": "ipython",
    "version": 3
   },
   "file_extension": ".py",
   "mimetype": "text/x-python",
   "name": "python",
   "nbconvert_exporter": "python",
   "pygments_lexer": "ipython3",
   "version": "3.11.2"
  }
 },
 "nbformat": 4,
 "nbformat_minor": 5
}
